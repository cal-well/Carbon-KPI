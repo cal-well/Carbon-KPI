{
 "cells": [
  {
   "cell_type": "code",
   "execution_count": 53,
   "id": "5053d7cc",
   "metadata": {},
   "outputs": [],
   "source": [
    "import pandas as pd\n",
    "from datetime import datetime"
   ]
  },
  {
   "cell_type": "markdown",
   "id": "764fcef9",
   "metadata": {},
   "source": [
    "## Home Analytics"
   ]
  },
  {
   "cell_type": "markdown",
   "id": "40591511",
   "metadata": {},
   "source": [
    "Use Carbon Trust Home Analytics database to find location data for each house in the local authority"
   ]
  },
  {
   "cell_type": "code",
   "execution_count": 27,
   "id": "83b82e9a",
   "metadata": {},
   "outputs": [],
   "source": [
    "#read Carbon Trust raw data\n",
    "dfHome = pd.read_excel('Data/Housing/Carbon Trust Housing Analytics 2021.xlsx',engine = \"openpyxl\") "
   ]
  },
  {
   "cell_type": "code",
   "execution_count": 115,
   "id": "195f85ee",
   "metadata": {},
   "outputs": [],
   "source": [
    "#Exract location identifiers\n",
    "location_columns = ['LAUA_NAME','WARD_CODE','MSOA_CODE','LSOA_CODE','COA_CODE','UPRN','X_COORDINATE','Y_COORDINATE']\n",
    "#Extract DataBase of Postcodes and corresponding output area\n",
    "dfOutputArea = dfHome[location_columns]"
   ]
  },
  {
   "cell_type": "markdown",
   "id": "d4cfad0b",
   "metadata": {},
   "source": [
    "## EPC Certificates"
   ]
  },
  {
   "cell_type": "markdown",
   "id": "ee7b7355",
   "metadata": {},
   "source": [
    "Develop Housing database from https://epc.opendatacommunities.org/"
   ]
  },
  {
   "cell_type": "code",
   "execution_count": null,
   "id": "3babce07",
   "metadata": {},
   "outputs": [],
   "source": [
    "dfEPC"
   ]
  },
  {
   "cell_type": "code",
   "execution_count": 76,
   "id": "97dbfd7c",
   "metadata": {},
   "outputs": [
    {
     "name": "stderr",
     "output_type": "stream",
     "text": [
      "C:\\Users\\ACAL0920\\AppData\\Roaming\\Python\\Python36\\site-packages\\IPython\\core\\interactiveshell.py:3072: DtypeWarning: Columns (15,34,37) have mixed types.Specify dtype option on import or set low_memory=False.\n",
      "  interactivity=interactivity, compiler=compiler, result=result)\n"
     ]
    }
   ],
   "source": [
    "#read EPC raw data\n",
    "dfEPC = pd.read_csv('Data/Housing/EPC certificates.csv') "
   ]
  },
  {
   "cell_type": "code",
   "execution_count": 116,
   "id": "45f6e32a",
   "metadata": {},
   "outputs": [],
   "source": [
    "#add location identifiers (merge on Unique property reference number)\n",
    "dfEPC_Output = pd.merge(dfEPC, dfOutputArea, on='UPRN', how='left')"
   ]
  },
  {
   "cell_type": "code",
   "execution_count": 124,
   "id": "d73f9f86",
   "metadata": {},
   "outputs": [],
   "source": [
    "#Convert lodgement data to datetime format\n",
    "dfEPC_Output['LODGEMENT_DATE'] = pd.to_datetime(dfEPC_Output['LODGEMENT_DATE'])\n",
    "#Extract lodgement Year\n",
    "dfEPC_Output['YEAR'] = pd.DatetimeIndex(dfEPC_Output['LODGEMENT_DATE']).year"
   ]
  },
  {
   "cell_type": "code",
   "execution_count": 178,
   "id": "1ec3644d",
   "metadata": {},
   "outputs": [],
   "source": [
    "#Sort dataset by year,location,values\n",
    "EPCSorted = pd.pivot_table(dfEPC_Output, index=['YEAR','LAUA_NAME','WARD_CODE','MSOA_CODE','LSOA_CODE','COA_CODE','POSTCODE',\n",
    "                                                'UPRN','X_COORDINATE','Y_COORDINATE'],\n",
    "                           values=dfEPC_Output.columns)"
   ]
  },
  {
   "cell_type": "markdown",
   "id": "17389344",
   "metadata": {},
   "source": [
    "# Add Gas and electricity"
   ]
  },
  {
   "cell_type": "markdown",
   "id": "05ce44aa",
   "metadata": {},
   "source": [
    "Add postcode level gas and electricity from\n",
    "\n",
    "https://www.gov.uk/government/collections/sub-national-electricity-consumption-data\n",
    "\n",
    "https://www.gov.uk/government/collections/sub-national-gas-consumption-data"
   ]
  },
  {
   "cell_type": "code",
   "execution_count": null,
   "id": "9c75df10",
   "metadata": {},
   "outputs": [],
   "source": [
    "#read data\n",
    "dfGas = pd.read_csv('Data/Housing/Postcode_level_gas_2021.csv') "
   ]
  },
  {
   "cell_type": "code",
   "execution_count": 188,
   "id": "55bf7605",
   "metadata": {},
   "outputs": [],
   "source": [
    "dfElec = pd.read_csv('Data/Housing/Postcode_level_standard_electricity_2021_K_to_Z.csv') "
   ]
  },
  {
   "cell_type": "code",
   "execution_count": 192,
   "id": "7e6b72eb",
   "metadata": {},
   "outputs": [],
   "source": [
    "#merge utlities data\n",
    "dfUtilities21 = pd.merge(dfElec,dfGas, on ='Postcode', how='left')"
   ]
  },
  {
   "cell_type": "code",
   "execution_count": 194,
   "id": "ce4a5197",
   "metadata": {},
   "outputs": [],
   "source": [
    "#add year\n",
    "dfUtilities21['YEAR']=2021"
   ]
  },
  {
   "cell_type": "code",
   "execution_count": 195,
   "id": "6446fef6",
   "metadata": {},
   "outputs": [],
   "source": [
    "#unstack EPC data from multi-index format\n",
    "Epcunstacked = EPCSorted.reset_index()"
   ]
  },
  {
   "cell_type": "code",
   "execution_count": 221,
   "id": "65fba097",
   "metadata": {},
   "outputs": [],
   "source": [
    "#combine gas data with EPC dataset\n",
    "dfEPCfull = pd.merge(Epcunstacked, dfUtilities21, left_on=['YEAR','POSTCODE'], right_on=['YEAR','Postcode'], how='left')"
   ]
  },
  {
   "cell_type": "code",
   "execution_count": 226,
   "id": "6618cc95",
   "metadata": {},
   "outputs": [],
   "source": [
    "#fill the nan columns so they appear on the pivottable\n",
    "utlitiescols = ['Num_meters_x','Total_cons_kwh_x','Mean_cons_kwh_x','Median_cons_kwh_x'\n",
    "           ,'Outcode_y','Num_meters_y','Total_cons_kwh_y','Mean_cons_kwh_y','Median_cons_kwh_y']\n",
    "\n",
    "dfEPCfull[utlitiescols] = dfEPCfull[utlitiescols].fillna('NoData')"
   ]
  },
  {
   "cell_type": "code",
   "execution_count": 224,
   "id": "22a415cf",
   "metadata": {},
   "outputs": [],
   "source": [
    "#reindex the data\n",
    "EPCSorted2 = pd.pivot_table(dfEPCfull, index=['YEAR','LAUA_NAME','WARD_CODE','MSOA_CODE','LSOA_CODE','COA_CODE','POSTCODE'\n",
    "                                             ,'Num_meters_x','Total_cons_kwh_x','Mean_cons_kwh_x','Median_cons_kwh_x'\n",
    "                                             ,'Num_meters_y','Total_cons_kwh_y','Mean_cons_kwh_y','Median_cons_kwh_y'\n",
    "                                             ,'UPRN','X_COORDINATE','Y_COORDINATE'], values=dfEPCfull.columns)"
   ]
  },
  {
   "cell_type": "code",
   "execution_count": null,
   "id": "92057075",
   "metadata": {},
   "outputs": [],
   "source": [
    "#save to excel\n",
    "EPCSorted2.to_excel('Data/Housing/Combined_Datasets.xlsx')"
   ]
  },
  {
   "cell_type": "code",
   "execution_count": null,
   "id": "ef0f4272",
   "metadata": {},
   "outputs": [],
   "source": []
  }
 ],
 "metadata": {
  "kernelspec": {
   "display_name": "myenv",
   "language": "python",
   "name": "myenv"
  },
  "language_info": {
   "codemirror_mode": {
    "name": "ipython",
    "version": 3
   },
   "file_extension": ".py",
   "mimetype": "text/x-python",
   "name": "python",
   "nbconvert_exporter": "python",
   "pygments_lexer": "ipython3",
   "version": "3.6.13"
  }
 },
 "nbformat": 4,
 "nbformat_minor": 5
}
