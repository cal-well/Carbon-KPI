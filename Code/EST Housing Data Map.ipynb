{
 "cells": [
  {
   "cell_type": "markdown",
   "id": "b2468772",
   "metadata": {},
   "source": [
    "# Use kepler gl + Housing data to create basic visualisation "
   ]
  },
  {
   "cell_type": "code",
   "execution_count": 1,
   "id": "6c52ebd3",
   "metadata": {},
   "outputs": [],
   "source": [
    "from keplergl import KeplerGl\n",
    "import pandas as pd"
   ]
  },
  {
   "cell_type": "code",
   "execution_count": 2,
   "id": "3d48929c",
   "metadata": {},
   "outputs": [],
   "source": [
    "# read Sample data \n",
    "my_data= pd.read_excel('../Data/Housing Data.xlsx',engine = \"openpyxl\")"
   ]
  },
  {
   "cell_type": "markdown",
   "id": "63e09134",
   "metadata": {},
   "source": [
    "Configure the map:\n",
    "1) upload csv data file to https://kepler.gl/demo\n",
    "\n",
    "2) Configure map settings on the web app\n",
    "\n",
    "3) Export map\n",
    "\n",
    "4) Copy map JSON settings\n",
    "\n",
    "5) Paste below\n",
    "\n",
    "6) Capitalise true & false. Change null to None\n",
    "\n",
    "7) reformat to readable code\n",
    "\n",
    "6) Rename 'dataId' to my_data"
   ]
  },
  {
   "cell_type": "code",
   "execution_count": 47,
   "id": "a488deba",
   "metadata": {},
   "outputs": [],
   "source": [
    "config = {\n",
    "    \"version\":\"v1\",\n",
    "    \"config\":{\n",
    "        \"visState\":{\n",
    "            \"filters\":[],\n",
    "            \"layers\":[{\n",
    "                \"id\":\"chvb0dv\",\n",
    "                \"type\":\"point\",\n",
    "                \"config\":{\n",
    "                    \"dataId\":\"my_data\",\n",
    "                    \"label\":\"point\",\n",
    "                    \"color\":[255,203,153],\n",
    "                    \"highlightColor\":[252,242,26,255],\n",
    "                    \"columns\":{\n",
    "                        \"lat\":\"LATITUDE\",\n",
    "                        \"lng\":\"LONGITUDE\",\n",
    "                        \"altitude\":None},\n",
    "                    \"isVisible\":True,\n",
    "                    \"visConfig\":{\n",
    "                        \"radius\":5,\n",
    "                        \"fixedRadius\":False,\n",
    "                        \"opacity\":0.8,\n",
    "                        \"outline\":False,\n",
    "                        \"thickness\":1,\n",
    "                        \"strokeColor\":[240,231,222],\n",
    "                        \"colorRange\": {\n",
    "                            \"name\": \"ColorBrewer RdYlGn-6\",\n",
    "                            \"type\": \"diverging\",\n",
    "                            \"category\": \"ColorBrewer\",\n",
    "                            \"colors\": [\n",
    "                                \"#d73027\",\n",
    "                                \"#fc8d59\",\n",
    "                                \"#fee08b\",\n",
    "                                \"#d9ef8b\",\n",
    "                                \"#91cf60\",\n",
    "                                \"#1a9850\"\n",
    "                ]\n",
    "                        },\n",
    "                        \"strokeColorRange\": {\n",
    "                            \"name\": \"Global Warming\",\n",
    "                            \"type\": \"sequential\",\n",
    "                            \"category\": \"Uber\",\n",
    "                            \"colors\": [\n",
    "                                \"#5A1846\",\n",
    "                                \"#900C3F\",\n",
    "                                \"#C70039\",\n",
    "                                \"#E3611C\",\n",
    "                                \"#F1920E\",\n",
    "                                \"#FFC300\"\n",
    "                ]\n",
    "              },\n",
    "                        \"radiusRange\":[0,50],\n",
    "                        \"filled\":True},\n",
    "                    \"hidden\":False,\n",
    "                    \"textLabel\":[]},\n",
    "                \"visualChannels\":{\"colorField\":{\"name\":\"Current SAP Score\",\"type\":\"real\"},\n",
    "                                  \"colorScale\":\"quantile\",\n",
    "                                  \"strokeColorField\":{\"name\":\"Current SAP Score\",\"type\":\"integer\"},\n",
    "                                  \"strokeColorScale\":\"quantile\",\"sizeField\":None,\"sizeScale\":\"linear\"\n",
    "                                 }\n",
    "            }],\n",
    "            \"interactionConfig\":{\n",
    "                \"tooltip\":{\n",
    "                    \"fieldsToShow\":{\n",
    "                        \"my_data\":[{\"name\":\"Current SAP Score\",\"format\":None},\n",
    "                                     {\"name\":\"Potential SAP Score\",\"format\":None},\n",
    "                                     {\"name\":\"Current Energy Demand\",\"format\":None},\n",
    "                                     {\"name\":\"CO2 Emissions (2021)\",\"format\":None}\n",
    "                                  ]\n",
    "                    },\n",
    "                    \"compareMode\":True,\n",
    "                    \"compareType\":\"relative\",\n",
    "                    \"enabled\":True\n",
    "                },\n",
    "                \"brush\":{\"size\":0.5,\"enabled\":False},\n",
    "                \"geocoder\":{\"enabled\":True},\n",
    "                \"coordinate\":{\"enabled\":False}\n",
    "            },\n",
    "            \"layerBlending\":\"normal\",\n",
    "            \"splitMaps\":[],\n",
    "            \"animationConfig\":{\"currentTime\":None,\"speed\":1}\n",
    "        },\n",
    "        \n",
    "        \"mapState\":{\"bearing\":24,\n",
    "                    \"dragRotate\":True,\n",
    "                    \"latitude\":55.02661087170561,\n",
    "                    \"longitude\":-1.5497810211313046,\n",
    "                    \"pitch\":50,\n",
    "                    \"zoom\":12.37016012690896,\n",
    "                    \"isSplit\":False},\n",
    "        \n",
    "        \"mapStyle\":{\n",
    "            \"styleType\":\"dark\",\n",
    "            \"topLayerGroups\":{\"3d building\":False},\n",
    "            \"visibleLayerGroups\":{\"label\":True,\"road\":True,\"border\":False,\"building\":True,\"water\":True,\"land\":True,\"3d building\":False},\n",
    "            \"threeDBuildingColor\":[246,240,235],\n",
    "            \"mapStyles\":{}}}}"
   ]
  },
  {
   "cell_type": "code",
   "execution_count": 48,
   "id": "36afdbaf",
   "metadata": {},
   "outputs": [
    {
     "name": "stdout",
     "output_type": "stream",
     "text": [
      "User Guide: https://docs.kepler.gl/docs/keplergl-jupyter\n",
      "Map saved to ../Outputs/EST Home Analytics Map.html!\n"
     ]
    }
   ],
   "source": [
    "# Create a Kepler.gl map with above configuration\n",
    "map_1 = KeplerGl(height=500,config =config)\n",
    "# Add data to the map\n",
    "map_1.add_data(data=my_data, name='my_data')\n",
    "#save to html\n",
    "map_1.save_to_html(file_name='../Outputs/EST Home Analytics Map.html')"
   ]
  },
  {
   "cell_type": "code",
   "execution_count": null,
   "id": "f3994c76",
   "metadata": {},
   "outputs": [],
   "source": []
  }
 ],
 "metadata": {
  "kernelspec": {
   "display_name": "myenv",
   "language": "python",
   "name": "myenv"
  },
  "language_info": {
   "codemirror_mode": {
    "name": "ipython",
    "version": 3
   },
   "file_extension": ".py",
   "mimetype": "text/x-python",
   "name": "python",
   "nbconvert_exporter": "python",
   "pygments_lexer": "ipython3",
   "version": "3.6.13"
  }
 },
 "nbformat": 4,
 "nbformat_minor": 5
}
