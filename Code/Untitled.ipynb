{
 "cells": [
  {
   "cell_type": "code",
   "execution_count": 1,
   "id": "28a0df04",
   "metadata": {},
   "outputs": [],
   "source": [
    "import pandas as pd"
   ]
  },
  {
   "cell_type": "code",
   "execution_count": 2,
   "id": "c2b99a7f",
   "metadata": {},
   "outputs": [],
   "source": [
    "BEIS_csv = pd.read_csv('../Data/LA_Emissions.csv')"
   ]
  },
  {
   "cell_type": "code",
   "execution_count": 3,
   "id": "71f8627b",
   "metadata": {},
   "outputs": [],
   "source": [
    "BEIS_csv = pd.melt(BEIS_csv, id_vars='Calendar Year', value_vars=['Grand Total',\n",
    "                              'Agriculture Total',\n",
    "                              'Transport Total',\n",
    "                              'Domestic Total',\n",
    "                              'Industry Total',\n",
    "                              'Public Sector Total',\n",
    "                              'Commercial Total'])"
   ]
  },
  {
   "cell_type": "code",
   "execution_count": 4,
   "id": "1a01e114",
   "metadata": {},
   "outputs": [
    {
     "data": {
      "text/html": [
       "<div>\n",
       "<style scoped>\n",
       "    .dataframe tbody tr th:only-of-type {\n",
       "        vertical-align: middle;\n",
       "    }\n",
       "\n",
       "    .dataframe tbody tr th {\n",
       "        vertical-align: top;\n",
       "    }\n",
       "\n",
       "    .dataframe thead th {\n",
       "        text-align: right;\n",
       "    }\n",
       "</style>\n",
       "<table border=\"1\" class=\"dataframe\">\n",
       "  <thead>\n",
       "    <tr style=\"text-align: right;\">\n",
       "      <th></th>\n",
       "      <th>Calendar Year</th>\n",
       "      <th>variable</th>\n",
       "      <th>value</th>\n",
       "    </tr>\n",
       "  </thead>\n",
       "  <tbody>\n",
       "    <tr>\n",
       "      <th>0</th>\n",
       "      <td>2005.0</td>\n",
       "      <td>Grand Total</td>\n",
       "      <td>1,453.0</td>\n",
       "    </tr>\n",
       "    <tr>\n",
       "      <th>1</th>\n",
       "      <td>2006.0</td>\n",
       "      <td>Grand Total</td>\n",
       "      <td>1,393.8</td>\n",
       "    </tr>\n",
       "    <tr>\n",
       "      <th>2</th>\n",
       "      <td>2007.0</td>\n",
       "      <td>Grand Total</td>\n",
       "      <td>1,343.4</td>\n",
       "    </tr>\n",
       "    <tr>\n",
       "      <th>3</th>\n",
       "      <td>2008.0</td>\n",
       "      <td>Grand Total</td>\n",
       "      <td>1,281.5</td>\n",
       "    </tr>\n",
       "    <tr>\n",
       "      <th>4</th>\n",
       "      <td>2009.0</td>\n",
       "      <td>Grand Total</td>\n",
       "      <td>1,143.1</td>\n",
       "    </tr>\n",
       "    <tr>\n",
       "      <th>...</th>\n",
       "      <td>...</td>\n",
       "      <td>...</td>\n",
       "      <td>...</td>\n",
       "    </tr>\n",
       "    <tr>\n",
       "      <th>114</th>\n",
       "      <td>2017.0</td>\n",
       "      <td>Commercial Total</td>\n",
       "      <td>71</td>\n",
       "    </tr>\n",
       "    <tr>\n",
       "      <th>115</th>\n",
       "      <td>2018.0</td>\n",
       "      <td>Commercial Total</td>\n",
       "      <td>71.2</td>\n",
       "    </tr>\n",
       "    <tr>\n",
       "      <th>116</th>\n",
       "      <td>2019.0</td>\n",
       "      <td>Commercial Total</td>\n",
       "      <td>68.3</td>\n",
       "    </tr>\n",
       "    <tr>\n",
       "      <th>117</th>\n",
       "      <td>2020.0</td>\n",
       "      <td>Commercial Total</td>\n",
       "      <td>73</td>\n",
       "    </tr>\n",
       "    <tr>\n",
       "      <th>118</th>\n",
       "      <td>NaN</td>\n",
       "      <td>Commercial Total</td>\n",
       "      <td>NaN</td>\n",
       "    </tr>\n",
       "  </tbody>\n",
       "</table>\n",
       "<p>119 rows × 3 columns</p>\n",
       "</div>"
      ],
      "text/plain": [
       "     Calendar Year          variable    value\n",
       "0           2005.0       Grand Total  1,453.0\n",
       "1           2006.0       Grand Total  1,393.8\n",
       "2           2007.0       Grand Total  1,343.4\n",
       "3           2008.0       Grand Total  1,281.5\n",
       "4           2009.0       Grand Total  1,143.1\n",
       "..             ...               ...      ...\n",
       "114         2017.0  Commercial Total       71\n",
       "115         2018.0  Commercial Total     71.2\n",
       "116         2019.0  Commercial Total     68.3\n",
       "117         2020.0  Commercial Total       73\n",
       "118            NaN  Commercial Total      NaN\n",
       "\n",
       "[119 rows x 3 columns]"
      ]
     },
     "execution_count": 4,
     "metadata": {},
     "output_type": "execute_result"
    }
   ],
   "source": [
    "BEIS_csv"
   ]
  }
 ],
 "metadata": {
  "kernelspec": {
   "display_name": "myenv",
   "language": "python",
   "name": "myenv"
  },
  "language_info": {
   "codemirror_mode": {
    "name": "ipython",
    "version": 3
   },
   "file_extension": ".py",
   "mimetype": "text/x-python",
   "name": "python",
   "nbconvert_exporter": "python",
   "pygments_lexer": "ipython3",
   "version": "3.6.13"
  }
 },
 "nbformat": 4,
 "nbformat_minor": 5
}
